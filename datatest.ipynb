{
 "cells": [
  {
   "cell_type": "code",
   "execution_count": 1,
   "metadata": {},
   "outputs": [],
   "source": [
    "import pandas as pd"
   ]
  },
  {
   "cell_type": "code",
   "execution_count": 2,
   "metadata": {},
   "outputs": [
    {
     "name": "stdout",
     "output_type": "stream",
     "text": [
      "Empty DataFrame\n",
      "Columns: [Unnamed: 0, game_id, player_1, player_2, winner]\n",
      "Index: []\n"
     ]
    }
   ],
   "source": [
    "gamesCSV = \"log.csv\"\n",
    "movesCSV = \"Moves.csv\"\n",
    "moves = pd.DataFrame(columns=[\n",
    "    \"Game ID\",\n",
    "    \"Turn\",\n",
    "    \"Player\",\n",
    "    \"Position\"\n",
    "])\n",
    "\n",
    "games = pd.DataFrame(columns=[\n",
    "            \"Game ID\",\n",
    "            \"Player1\",\n",
    "            \"Player2\",\n",
    "            \"Winner\"\n",
    "        ])\n",
    "\n",
    "def enterGame(id, name1,name2,winner):\n",
    "    games.loc[len(games)] = {\n",
    "        \"Game ID\":id,\n",
    "        \"Player1\":name1,\n",
    "        \"Player2\":name2,\n",
    "        \"Winner\":winner\n",
    "    }\n",
    "    games.to_csv(gamesCSV, mode='a',index=False, header=False)\n",
    "    moves.to_csv(movesCSV, mode='a', index=False, header=False)\n",
    "\n",
    "def enterMove(id,turn,name,position):\n",
    "    moves.loc[len(moves)]={\n",
    "        \"Game ID\":id,\n",
    "        \"Turn\": turn,\n",
    "        \"Player\": name,\n",
    "        \"Position\": position\n",
    "    }"
   ]
  }
 ],
 "metadata": {
  "kernelspec": {
   "display_name": "base",
   "language": "python",
   "name": "python3"
  },
  "language_info": {
   "codemirror_mode": {
    "name": "ipython",
    "version": 3
   },
   "file_extension": ".py",
   "mimetype": "text/x-python",
   "name": "python",
   "nbconvert_exporter": "python",
   "pygments_lexer": "ipython3",
   "version": "3.8.5 (default, Sep  4 2020, 02:22:02) \n[Clang 10.0.0 ]"
  },
  "orig_nbformat": 4,
  "vscode": {
   "interpreter": {
    "hash": "40d3a090f54c6569ab1632332b64b2c03c39dcf918b08424e98f38b5ae0af88f"
   }
  }
 },
 "nbformat": 4,
 "nbformat_minor": 2
}
